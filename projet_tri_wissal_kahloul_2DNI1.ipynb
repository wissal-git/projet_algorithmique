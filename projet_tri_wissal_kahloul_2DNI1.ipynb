{
 "cells": [
  {
   "cell_type": "markdown",
   "metadata": {},
   "source": [
    "<span style =\"color:red\">\n",
    "    <h2> Projet-Algorithmique avancée \n",
    "    </h2></span>\n",
    "<span style =\"color:indigo\">\n",
    "    <h3>  \n",
    "    Thème: Analyse Complexité des Algorithmes\n",
    "    </h3>"
   ]
  },
  {
   "cell_type": "markdown",
   "metadata": {},
   "source": [
    "### objectif :\n",
    "* Étudier le nombre de comparaisons d’éléments des tris par sélection, par insertion et par la méthode sort des listes.\n",
    "\n",
    "* Retrouver les résultats établis en cours.\n",
    "\n",
    "* Étudier expérimentalement la complexité en temps du tri par sélection et du tri par insertion dans le meilleur des cas,le pire des cas et en moyenne.\n",
    "\n",
    "### Travail à faire :\n",
    "\n",
    "* Tri par sélection\n",
    "* Tri à bulle\n",
    "* Tri par insertion\n",
    "* Tri par fusion\n",
    "* Tri rapide\n"
   ]
  },
  {
   "cell_type": "markdown",
   "metadata": {},
   "source": [
    "### tri par sélection \n",
    "- Dans l’algorithme de tri par sélection, nous cherchons l’élément le plus petit et on le met au bon endroit. Nous échangeons l’élément en cours avec le prochain élément le plus petit.\n",
    "\n",
    "- Principe\n",
    "\n",
    "TANT QUE  il reste plus d’un élément non trié faire\n",
    "    1. Chercher le plus petit parmi les non triés.\n",
    "    2. Échanger le premier élément non trié avec le plus petit trouvé.\n",
    "    \n",
    "FAIT\n",
    "\n",
    "<img src='avlC6.gif'>"
   ]
  },
  {
   "cell_type": "code",
   "execution_count": 1,
   "metadata": {},
   "outputs": [],
   "source": [
    "def tri_select (vect,ordre='croi'):\n",
    "    if ordre=='croi' :\n",
    "        i=0\n",
    "        while i<len(vect):\n",
    "            x=vect[i]\n",
    "            for count in range(i+1,len(vect)):\n",
    "                if x>vect[count]:\n",
    "                    x=vect[count]\n",
    "                    vect[count]=vect[i]\n",
    "                    vect[i]=x\n",
    "                    \n",
    "            i+=1\n",
    "    elif(ordre=='dec'):\n",
    "        i=0\n",
    "        while i<len(vect):\n",
    "            x=vect[i]\n",
    "            for count in range(i+1,len(vect)):\n",
    "                if x<vect[count]:\n",
    "                    x=vect[count]\n",
    "                    vect[count]=vect[i]\n",
    "                    vect[i]=x\n",
    "                    \n",
    "            i+=1\n",
    "    else:\n",
    "        print('entre lordre de tri soit croi: pour croissant ou dec:pour decorissant')\n",
    "    return vect\n"
   ]
  },
  {
   "cell_type": "code",
   "execution_count": 2,
   "metadata": {},
   "outputs": [],
   "source": [
    "\n"
   ]
  },
  {
   "cell_type": "markdown",
   "metadata": {},
   "source": [
    "### tri à bulle\n",
    "\n",
    "* L’algorithme de tri à bulles est connu comme l’algorithme de tri le plus simple.Dans l’algorithme de tri à bulle, le tableau est parcouru du premier au dernier élément. Ici, l’élément courant est comparé à l’élément suivant. Si l’élément en cours est supérieur à l’élément suivant, il est échangé. Voici comment le processus fonctionne :\n",
    " \n",
    "<img src='buble.gif'>"
   ]
  },
  {
   "cell_type": "code",
   "execution_count": 3,
   "metadata": {},
   "outputs": [],
   "source": [
    "def tri_bul(vect,ordre='croi'):\n",
    "    permut=True\n",
    "    p=len(vect)-1\n",
    "    if ordre=='croi':\n",
    "        while permut :\n",
    "            permut=False\n",
    "            for counter in range(p):\n",
    "                if vect[counter]>vect[counter+1]:\n",
    "                    x=vect[counter]\n",
    "                    vect[counter]=vect[counter+1]\n",
    "                    vect[counter+1]=x\n",
    "                    permut=True\n",
    "            p-=1\n",
    "    elif ordre=='dec':\n",
    "        while permut :\n",
    "            permut=False\n",
    "            for counter in range(p):\n",
    "                if vect[counter]<vect[counter+1]:\n",
    "                    x=vect[counter]\n",
    "                    vect[counter]=vect[counter+1]\n",
    "                    vect[counter+1]=x\n",
    "                    permut=True\n",
    "            p-=1\n",
    "    else:\n",
    "        print('entre lordre de tri soit croi: pour croissant ou dec:pour decorissant')\n",
    "    return vect\n"
   ]
  },
  {
   "cell_type": "markdown",
   "metadata": {},
   "source": [
    "### Tri par insertion\n",
    "* L’algorithme du tri par insertion n’est utile que pour les petits éléments, car elle nécessite plus de temps pour trier un grand nombre d’éléments. Voici comment le processus fonctionne :\n",
    "\n",
    "\n",
    "<img src='Insertion-sort-example-300px.gif'>"
   ]
  },
  {
   "cell_type": "code",
   "execution_count": 4,
   "metadata": {},
   "outputs": [],
   "source": [
    "def tri_insert(vect,ordre='croi'):\n",
    "    if ordre=='croi':\n",
    "        for counter in range(len(vect)-1):\n",
    "            x=vect[counter+1]\n",
    "            j=counter\n",
    "            while ((vect[j]>x)and(j>=0)):\n",
    "                vect[j+1]=vect[j]\n",
    "                j-=1\n",
    "            vect[j+1]=x\n",
    "    elif ordre=='dec':\n",
    "        for counter in range(len(vect)-1):\n",
    "            x=v[counter+1]\n",
    "            j=counter\n",
    "            while ((vect[j]<x)and(j>=0)):\n",
    "                vect[j+1]=vect[j]\n",
    "                j-=1\n",
    "            vect[j+1]=x\n",
    "    else:\n",
    "        print('entre lordre de tri soit croi: pour croissant ou dec:pour decorissant')\n",
    "\n",
    "    return vect\n"
   ]
  },
  {
   "cell_type": "code",
   "execution_count": 5,
   "metadata": {},
   "outputs": [],
   "source": [
    "def tri_insertion(tab): \n",
    "    # Parcour de 1 à la taille du tab\n",
    "    for i in range(1, len(tab)): \n",
    "        k = tab[i] \n",
    "        j = i-1\n",
    "        while j >= 0 and k < tab[j] : \n",
    "                tab[j + 1] = tab[j] \n",
    "                j -= 1\n",
    "        tab[j + 1] = k\n",
    "    return tab\n",
    "\n"
   ]
  },
  {
   "cell_type": "markdown",
   "metadata": {},
   "source": [
    "### Tri par fusion \n",
    "* Soient deux listes triées de même taille. La fusion consiste à obtenir à partir de ces deux listes la liste triée contenant tous les éléments. La figure suivante montre un exemple de fusion, où deux listes de 4 nombres sont fusionnées.\n",
    "\n",
    "\n",
    "\n",
    "<img src='Merge-sort-example-300px.gif'>\n"
   ]
  },
  {
   "cell_type": "code",
   "execution_count": 6,
   "metadata": {},
   "outputs": [],
   "source": [
    "def tri_fusion(T) :\n",
    "    if len(T)<=1 : \n",
    "        return T\n",
    "    T1=[T[x] for x in range(len(T)//2)]\n",
    "    T2=[T[x] for x in range(len(T)//2,len(T))]\n",
    "    return fusion(tri_fusion(T1),tri_fusion(T2))\n",
    "def fusion(T1,T2) :\n",
    "    if T1==[] :return T2\n",
    "    if T2==[] :return T1\n",
    "    if T1[0]<T2[0] :\n",
    "        return [T1[0]]+fusion(T1[1 :],T2)\n",
    "    else :\n",
    "        return [T2[0]]+fusion(T1,T2[1 :])\n"
   ]
  },
  {
   "cell_type": "markdown",
   "metadata": {},
   "source": [
    "### Tri rapide \n",
    "* Le tri rapide, ou quicksort, fait partie des tris qui utilisent les comparaisons. Son principe suit l'approche \"diviser pour régner\" : on sélectionne un élément de l'ensemble (le pivot) avant de placer d'un coté les éléments inférieurs ou égaux à cet élément, et de l'autre ceux qui lui sont supérieurs\n",
    "\n",
    "<img src='quick_sort_partition_animation.gif'>"
   ]
  },
  {
   "cell_type": "code",
   "execution_count": null,
   "metadata": {},
   "outputs": [],
   "source": []
  },
  {
   "cell_type": "code",
   "execution_count": 7,
   "metadata": {},
   "outputs": [],
   "source": [
    "def quicksort(L):\n",
    "    if L==[] : return []\n",
    "    else :\n",
    "        p=L[0]\n",
    "        L1 = [x for x in L[1:] if x<p]\n",
    "        L2 = [x for x in L[1:] if x>=p]\n",
    "        LT1=quicksort(L1)\n",
    "        LT2=quicksort(L2)\n",
    "    return LT1 + [p] +LT2"
   ]
  },
  {
   "cell_type": "markdown",
   "metadata": {},
   "source": [
    "### mesure temps d'execution :\n",
    "\n",
    "#### la librairie timeit :\n",
    "\n",
    "* La librairie timeit permet de mesurer le temps d'exécution d'un code Python. Pour cela, le code doit être répété un grand nombre de fois pour avoir une mesure pertinente. C'est ce que fait la librairie timeit: répéter le code pour mesurer la moyenne de son temps d'exécution."
   ]
  },
  {
   "cell_type": "code",
   "execution_count": null,
   "metadata": {},
   "outputs": [],
   "source": []
  },
  {
   "cell_type": "code",
   "execution_count": null,
   "metadata": {},
   "outputs": [],
   "source": []
  },
  {
   "cell_type": "markdown",
   "metadata": {},
   "source": [
    "### genération tableau "
   ]
  },
  {
   "cell_type": "code",
   "execution_count": 8,
   "metadata": {},
   "outputs": [],
   "source": [
    "import random\n",
    "def generate(n):\n",
    "    \n",
    "    l = [random.randint(0,n) for i in range(n)]\n",
    "    return l"
   ]
  },
  {
   "cell_type": "code",
   "execution_count": 9,
   "metadata": {},
   "outputs": [],
   "source": [
    "tab=[]\n",
    "ee=[]\n",
    "for n in range (20,50,5):\n",
    "    tab= generate(n)\n",
    "    list(tab)\n",
    "    #print(tab)\n",
    "    ee.append(tab)    \n",
    "#print(ee)"
   ]
  },
  {
   "cell_type": "code",
   "execution_count": 11,
   "metadata": {},
   "outputs": [
    {
     "name": "stdout",
     "output_type": "stream",
     "text": [
      "[5, 15, 14, 5, 14, 9, 17, 14, 15, 11, 18, 19, 7, 8, 17, 1, 11, 2, 9, 4]\n",
      "43.3 µs ± 1.28 µs per loop (mean ± std. dev. of 7 runs, 10000 loops each)\n",
      "[1, 14, 4, 11, 16, 16, 9, 25, 12, 11, 21, 12, 17, 25, 2, 21, 3, 20, 1, 19, 7, 16, 20, 11, 17]\n",
      "64.4 µs ± 13.8 µs per loop (mean ± std. dev. of 7 runs, 10000 loops each)\n",
      "[25, 27, 4, 6, 6, 24, 6, 10, 4, 3, 6, 24, 9, 9, 10, 18, 8, 19, 20, 8, 26, 27, 2, 0, 28, 17, 10, 11, 9, 15]\n",
      "71.9 µs ± 3.2 µs per loop (mean ± std. dev. of 7 runs, 10000 loops each)\n",
      "[8, 13, 2, 21, 3, 19, 14, 6, 20, 17, 30, 24, 20, 32, 13, 32, 33, 12, 26, 25, 15, 4, 6, 4, 35, 2, 28, 16, 2, 0, 32, 24, 31, 9, 30]\n",
      "78.1 µs ± 3.14 µs per loop (mean ± std. dev. of 7 runs, 10000 loops each)\n",
      "[18, 35, 38, 28, 30, 6, 18, 10, 39, 4, 21, 21, 5, 31, 18, 24, 12, 6, 31, 24, 30, 29, 17, 40, 17, 34, 33, 4, 25, 7, 0, 2, 8, 15, 38, 39, 12, 26, 38, 10]\n",
      "101 µs ± 19.9 µs per loop (mean ± std. dev. of 7 runs, 10000 loops each)\n",
      "[32, 28, 25, 28, 32, 24, 18, 20, 21, 8, 34, 32, 15, 28, 16, 12, 18, 30, 1, 14, 14, 4, 24, 2, 27, 12, 10, 2, 21, 21, 36, 44, 37, 0, 22, 37, 20, 22, 40, 29, 6, 37, 41, 35, 38]\n",
      "102 µs ± 1.04 µs per loop (mean ± std. dev. of 7 runs, 10000 loops each)\n"
     ]
    }
   ],
   "source": [
    "for _ in ee:\n",
    "    print(_)\n",
    "    %timeit quicksort(_)"
   ]
  },
  {
   "cell_type": "code",
   "execution_count": null,
   "metadata": {},
   "outputs": [],
   "source": []
  },
  {
   "cell_type": "markdown",
   "metadata": {},
   "source": [
    "## visualisation des courbes de complexité "
   ]
  },
  {
   "cell_type": "markdown",
   "metadata": {},
   "source": [
    "### 1- tri_selection "
   ]
  },
  {
   "cell_type": "code",
   "execution_count": null,
   "metadata": {},
   "outputs": [],
   "source": [
    "import random\n",
    "from functools import partial\n",
    "import timeit\n",
    "#func=[quicksort,tri_selection]\n",
    "x,y=[],[]\n",
    "for i in range(20000,100000,5000):\n",
    "    #for f in (func):\n",
    "        testTimer=timeit.Timer(partial(tri_select,generate(i)))\n",
    "        t=testTimer.timeit(number=10)\n",
    "        x.append(i)\n",
    "        y.append(t)"
   ]
  },
  {
   "cell_type": "code",
   "execution_count": null,
   "metadata": {},
   "outputs": [],
   "source": []
  },
  {
   "cell_type": "code",
   "execution_count": null,
   "metadata": {},
   "outputs": [],
   "source": [
    "import matplotlib.pyplot as plt\n",
    "plt.plot(x,y,marker='*')\n",
    "plt.grid()\n"
   ]
  },
  {
   "cell_type": "markdown",
   "metadata": {},
   "source": [
    "## visualisation par tkinter "
   ]
  },
  {
   "cell_type": "code",
   "execution_count": 17,
   "metadata": {},
   "outputs": [],
   "source": [
    "\n",
    "\n",
    "import tkinter\n",
    "\n",
    "from matplotlib.backends.backend_tkagg import (FigureCanvasTkAgg, NavigationToolbar2Tk)\n",
    "# Implement the default Matplotlib key bindings.\n",
    "from matplotlib.backend_bases import key_press_handler\n",
    "from matplotlib.figure import Figure\n",
    "\n",
    "import numpy as np\n",
    "\n",
    "\n",
    "root = tkinter.Tk()\n",
    "root.wm_title(\"Embedding in Tk\")\n",
    "\n",
    "fig = Figure(figsize=(5, 4), dpi=100)\n",
    "t = np.arange(0, 3, .01)\n",
    "fig.add_subplot(111).plot(x,y)\n",
    "\n",
    "canvas = FigureCanvasTkAgg(fig, master=root)  # A tk.DrawingArea.\n",
    "canvas.draw()\n",
    "canvas.get_tk_widget().pack(side=tkinter.TOP, fill=tkinter.BOTH, expand=1)\n",
    "\n",
    "toolbar = NavigationToolbar2Tk(canvas, root)\n",
    "toolbar.update()\n",
    "canvas.get_tk_widget().pack(side=tkinter.TOP, fill=tkinter.BOTH, expand=1)\n",
    "\n",
    "\n",
    "def on_key_press(event):\n",
    "    print(\"you pressed {}\".format(event.key))\n",
    "    key_press_handler(event, canvas, toolbar)\n",
    "\n",
    "\n",
    "canvas.mpl_connect(\"key_press_event\", on_key_press)\n",
    "\n",
    "\n",
    "def _quit():\n",
    "    root.quit()     # stops mainloop\n",
    "    root.destroy()  # this is necessary on Windows to prevent\n",
    "                    # Fatal Python Error: PyEval_RestoreThread: NULL tstate\n",
    "\n",
    "\n",
    "button = tkinter.Button(master=root, text=\"Quit\", command=_quit)\n",
    "button.pack(side=tkinter.BOTTOM)\n",
    "\n",
    "tkinter.mainloop()\n"
   ]
  },
  {
   "cell_type": "markdown",
   "metadata": {},
   "source": [
    "### 2- tri_bulle"
   ]
  },
  {
   "cell_type": "code",
   "execution_count": 10,
   "metadata": {},
   "outputs": [
    {
     "data": {
      "image/png": "[encoded data removed]",
      "text/plain": [
       "<Figure size 432x288 with 1 Axes>"
      ]
     },
     "metadata": {
      "needs_background": "light"
     },
     "output_type": "display_data"
    }
   ],
   "source": [
    "import random\n",
    "from functools import partial\n",
    "import timeit\n",
    "#func=[quicksort,tri_selection]\n",
    "x,y=[],[]\n",
    "for i in range(2000,10000,500):\n",
    "    #for f in (func):\n",
    "        testTimer=timeit.Timer(partial(tri_bul,generate(i)))\n",
    "        t=testTimer.timeit(number=10)\n",
    "        x.append(i)\n",
    "        y.append(t)\n",
    "        \n",
    "import matplotlib.pyplot as plt\n",
    "plt.plot(x,y,marker='*')\n",
    "plt.grid()    "
   ]
  },
  {
   "cell_type": "code",
   "execution_count": null,
   "metadata": {},
   "outputs": [],
   "source": []
  },
  {
   "cell_type": "code",
   "execution_count": null,
   "metadata": {},
   "outputs": [],
   "source": []
  },
  {
   "cell_type": "markdown",
   "metadata": {},
   "source": [
    "### 3- tri insertion "
   ]
  },
  {
   "cell_type": "code",
   "execution_count": 10,
   "metadata": {},
   "outputs": [
    {
     "data": {
      "image/png": "[encoded data removed]",
      "text/plain": [
       "<Figure size 432x288 with 1 Axes>"
      ]
     },
     "metadata": {
      "needs_background": "light"
     },
     "output_type": "display_data"
    }
   ],
   "source": [
    "import random\n",
    "from functools import partial\n",
    "import timeit\n",
    "#func=[quicksort,tri_selection]\n",
    "x,y=[],[]\n",
    "for i in range(2000,10000,500):\n",
    "    #for f in (func):\n",
    "        testTimer=timeit.Timer(partial(tri_insertion,generate(i)))\n",
    "        t=testTimer.timeit(number=10)\n",
    "        x.append(i)\n",
    "        y.append(t)\n",
    "        \n",
    "import matplotlib.pyplot as plt\n",
    "plt.plot(x,y,marker='*')\n",
    "plt.grid()        "
   ]
  },
  {
   "cell_type": "markdown",
   "metadata": {},
   "source": [
    "### 4- tri par fusion "
   ]
  },
  {
   "cell_type": "code",
   "execution_count": 14,
   "metadata": {},
   "outputs": [
    {
     "data": {
      "image/png": "[encoded data removed]",
      "text/plain": [
       "<Figure size 432x288 with 1 Axes>"
      ]
     },
     "metadata": {
      "needs_background": "light"
     },
     "output_type": "display_data"
    }
   ],
   "source": [
    "import random\n",
    "from functools import partial\n",
    "import timeit\n",
    "#func=[quicksort,tri_selection]\n",
    "x,y=[],[]\n",
    "for i in range(200,1000,50):\n",
    "    #for f in (func):\n",
    "        testTimer=timeit.Timer(partial(tri_fusion,generate(i)))\n",
    "        t=testTimer.timeit(number=10)\n",
    "        x.append(i)\n",
    "        y.append(t)\n",
    "        \n",
    "import matplotlib.pyplot as plt\n",
    "plt.plot(x,y,marker='*')\n",
    "plt.grid()        "
   ]
  },
  {
   "cell_type": "markdown",
   "metadata": {},
   "source": [
    "### 5- tri rapide"
   ]
  },
  {
   "cell_type": "code",
   "execution_count": 16,
   "metadata": {},
   "outputs": [
    {
     "data": {
      "image/png": "[encoded data removed]",
      "text/plain": [
       "<Figure size 432x288 with 1 Axes>"
      ]
     },
     "metadata": {
      "needs_background": "light"
     },
     "output_type": "display_data"
    }
   ],
   "source": [
    "import random\n",
    "from functools import partial\n",
    "import timeit\n",
    "#func=[quicksort,tri_selection]\n",
    "x,y=[],[]\n",
    "for i in range(20000,100000,5000):\n",
    "    #for f in (func):\n",
    "        testTimer=timeit.Timer(partial(quicksort,generate(i)))\n",
    "        t=testTimer.timeit(number=10)\n",
    "        x.append(i)\n",
    "        y.append(t)\n",
    "        \n",
    "import matplotlib.pyplot as plt\n",
    "plt.plot(x,y,marker='*')\n",
    "plt.grid()        "
   ]
  },
  {
   "cell_type": "code",
   "execution_count": null,
   "metadata": {},
   "outputs": [],
   "source": []
  }
 ],
 "metadata": {
  "kernelspec": {
   "display_name": "Python 3",
   "language": "python",
   "name": "python3"
  },
  "language_info": {
   "codemirror_mode": {
    "name": "ipython",
    "version": 3
   },
   "file_extension": ".py",
   "mimetype": "text/x-python",
   "name": "python",
   "nbconvert_exporter": "python",
   "pygments_lexer": "ipython3",
   "version": "3.8.3"
  }
 },
 "nbformat": 4,
 "nbformat_minor": 4
}
